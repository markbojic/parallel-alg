{
  "nbformat": 4,
  "nbformat_minor": 0,
  "metadata": {
    "colab": {
      "name": "Projekat 2- 3",
      "provenance": [],
      "collapsed_sections": [],
      "include_colab_link": true
    },
    "kernelspec": {
      "name": "python3",
      "display_name": "Python 3"
    },
    "accelerator": "GPU"
  },
  "cells": [
    {
      "cell_type": "markdown",
      "metadata": {
        "id": "view-in-github",
        "colab_type": "text"
      },
      "source": [
        "<a href=\"https://colab.research.google.com/github/markbojic/parallel-alg/blob/main/Projekat2_3.ipynb\" target=\"_parent\"><img src=\"https://colab.research.google.com/assets/colab-badge.svg\" alt=\"Open In Colab\"/></a>"
      ]
    },
    {
      "cell_type": "code",
      "metadata": {
        "id": "5c0dhARSOB7T",
        "colab": {
          "base_uri": "https://localhost:8080/"
        },
        "outputId": "0cfa25e8-2951-4cc3-8095-e95c67260d96"
      },
      "source": [
        "!pip install pycuda"
      ],
      "execution_count": 2,
      "outputs": [
        {
          "output_type": "stream",
          "text": [
            "Collecting pycuda\n",
            "\u001b[?25l  Downloading https://files.pythonhosted.org/packages/46/61/47d3235a4c13eec5a5f03594ddb268f4858734e02980afbcd806e6242fa5/pycuda-2020.1.tar.gz (1.6MB)\n",
            "\u001b[K     |████████████████████████████████| 1.6MB 19.4MB/s \n",
            "\u001b[?25hCollecting pytools>=2011.2\n",
            "\u001b[?25l  Downloading https://files.pythonhosted.org/packages/fb/fc/9628f0d2ec698360f4475bea0a88cb767b935f5347e6687bae0ffa342aab/pytools-2021.2.tar.gz (65kB)\n",
            "\u001b[K     |████████████████████████████████| 71kB 10.4MB/s \n",
            "\u001b[?25hRequirement already satisfied: decorator>=3.2.0 in /usr/local/lib/python3.7/dist-packages (from pycuda) (4.4.2)\n",
            "Requirement already satisfied: appdirs>=1.4.0 in /usr/local/lib/python3.7/dist-packages (from pycuda) (1.4.4)\n",
            "Collecting mako\n",
            "\u001b[?25l  Downloading https://files.pythonhosted.org/packages/f3/54/dbc07fbb20865d3b78fdb7cf7fa713e2cba4f87f71100074ef2dc9f9d1f7/Mako-1.1.4-py2.py3-none-any.whl (75kB)\n",
            "\u001b[K     |████████████████████████████████| 81kB 11.8MB/s \n",
            "\u001b[?25hRequirement already satisfied: numpy>=1.6.0 in /usr/local/lib/python3.7/dist-packages (from pytools>=2011.2->pycuda) (1.19.5)\n",
            "Requirement already satisfied: MarkupSafe>=0.9.2 in /usr/local/lib/python3.7/dist-packages (from mako->pycuda) (1.1.1)\n",
            "Building wheels for collected packages: pycuda, pytools\n",
            "  Building wheel for pycuda (setup.py) ... \u001b[?25l\u001b[?25hdone\n",
            "  Created wheel for pycuda: filename=pycuda-2020.1-cp37-cp37m-linux_x86_64.whl size=621283 sha256=03ad3808a5636d4b4fe8acb914c82d2163c915aea2fbc2288bdcc865dbbbc4a3\n",
            "  Stored in directory: /root/.cache/pip/wheels/8f/78/d1/5bb826f81d9d490297a348d818ff3ee6dd6f2075b06dde6ea0\n",
            "  Building wheel for pytools (setup.py) ... \u001b[?25l\u001b[?25hdone\n",
            "  Created wheel for pytools: filename=pytools-2021.2-py2.py3-none-any.whl size=62446 sha256=048be0e7d18408853d8f439ff9e16375aa5cfd30acd0775cbe64870023f4ff89\n",
            "  Stored in directory: /root/.cache/pip/wheels/d3/13/e8/fcb236c8cb91fb549a37f1d86783af99f0e0bcbeb9568ee5e2\n",
            "Successfully built pycuda pytools\n",
            "Installing collected packages: pytools, mako, pycuda\n",
            "Successfully installed mako-1.1.4 pycuda-2020.1 pytools-2021.2\n"
          ],
          "name": "stdout"
        }
      ]
    },
    {
      "cell_type": "code",
      "metadata": {
        "id": "d5Njbbs5-tmn",
        "colab": {
          "base_uri": "https://localhost:8080/"
        },
        "outputId": "68958b0a-11f9-4899-b3ba-ec9f693d743c"
      },
      "source": [
        "!nvidia-smi"
      ],
      "execution_count": 3,
      "outputs": [
        {
          "output_type": "stream",
          "text": [
            "Thu Mar 18 11:31:42 2021       \n",
            "+-----------------------------------------------------------------------------+\n",
            "| NVIDIA-SMI 460.56       Driver Version: 460.32.03    CUDA Version: 11.2     |\n",
            "|-------------------------------+----------------------+----------------------+\n",
            "| GPU  Name        Persistence-M| Bus-Id        Disp.A | Volatile Uncorr. ECC |\n",
            "| Fan  Temp  Perf  Pwr:Usage/Cap|         Memory-Usage | GPU-Util  Compute M. |\n",
            "|                               |                      |               MIG M. |\n",
            "|===============================+======================+======================|\n",
            "|   0  Tesla T4            Off  | 00000000:00:04.0 Off |                    0 |\n",
            "| N/A   48C    P8    10W /  70W |      0MiB / 15109MiB |      0%      Default |\n",
            "|                               |                      |                  N/A |\n",
            "+-------------------------------+----------------------+----------------------+\n",
            "                                                                               \n",
            "+-----------------------------------------------------------------------------+\n",
            "| Processes:                                                                  |\n",
            "|  GPU   GI   CI        PID   Type   Process name                  GPU Memory |\n",
            "|        ID   ID                                                   Usage      |\n",
            "|=============================================================================|\n",
            "|  No running processes found                                                 |\n",
            "+-----------------------------------------------------------------------------+\n"
          ],
          "name": "stdout"
        }
      ]
    },
    {
      "cell_type": "code",
      "metadata": {
        "id": "40Y8RhUN-t1w",
        "colab": {
          "base_uri": "https://localhost:8080/"
        },
        "outputId": "1a77a51c-6545-4650-dd0c-5a05244c9fa6"
      },
      "source": [
        "import numpy as np\n",
        "from pycuda import driver, compiler, gpuarray, tools\n",
        "import gc\n",
        "import pycuda.autoinit\n",
        "\n",
        "kernel_code_template = \"\"\"\n",
        "__global__ void MatrixMulKernel(int *A, int *B, int MATRIX_SIZE_1, int MATRIX_SIZE_2, int B_SIZE, int *C)\n",
        "{\n",
        "  int wA = MATRIX_SIZE_1;\n",
        "  int wB = MATRIX_SIZE_2;\n",
        "\n",
        "  //Block indeks\n",
        "  int bx = blockIdx.x;\n",
        "  int by = blockIdx.y;\n",
        "\n",
        "  // Thread index\n",
        "  int tx = threadIdx.x;\n",
        "  int ty = threadIdx.y;\n",
        "\n",
        "  // Pocetak prve podmatrice A\n",
        "  int aBegin = wA * B_SIZE * by;\n",
        "  // Krajnji element poslednje podmatrice A\n",
        "  int aEnd = aBegin + wA - 1;\n",
        "  //Korak za sledece mnozenje\n",
        "  int aStep = B_SIZE;\n",
        "\n",
        "  //Prvi indeks za matricu B\n",
        "  int bBegin = B_SIZE * bx;\n",
        "  //Korak za matricu B\n",
        "  int bStep = B_SIZE * wB;\n",
        "\n",
        "  //Elemebt koji se racuna i posle stavlja u rezultujucu matricu C\n",
        "  int Csub = 0;\n",
        "  //Prolazak korz sve podmatrice za dati blok\n",
        "  \n",
        "  for (int a = aBegin, b = bBegin;a <= aEnd; a += aStep, b += bStep)\n",
        "    {\n",
        "      //Deljena memorija za podmatricu A\n",
        "      __shared__ int As[%(BLOCK_SIZE)s][%(BLOCK_SIZE)s];\n",
        "      //Deljena memorija za podmatricu B\n",
        "      __shared__ int Bs[%(BLOCK_SIZE)s][%(BLOCK_SIZE)s];\n",
        "\n",
        "      //Ucitaj po jedan element u deljenu memoriju \n",
        "      As[ty][tx] = A[a + wA * ty + tx];\n",
        "      Bs[ty][tx] = B[b + wB * ty + tx];\n",
        "\n",
        "      //Mora sinhronizacija za thredove da se ucitaju svi lepo\n",
        "      __syncthreads();\n",
        "\n",
        "      //Mnozenje matrica kao ranije, jedan thread racuna jedan element\n",
        "      for (int k = 0; k < B_SIZE; ++k)\n",
        "        Csub += As[ty][k] * Bs[k][tx];\n",
        "\n",
        "      //Ponovo sinhronizacija\n",
        "      __syncthreads();\n",
        "    }\n",
        "\n",
        "  //Upis izracunate podmatrice u matricu rezultata\n",
        "  int c = wB * B_SIZE * by + B_SIZE * bx;\n",
        "  C[c + wB * ty + tx] = Csub;\n",
        "}\n",
        "\"\"\"\n",
        "\n",
        "# Velicina matrice - kvadratna\n",
        "MATRIX_SIZE_1 = 32\n",
        "MATRIX_SIZE_2 = 32\n",
        "MATRIX_SIZE_3 = 32\n",
        "#Velicina bloka i tile koji se koristi za uzimanje delova matrica \n",
        "#Vrednost mora da deli velicinu matrice radi postizanja tacnog rezultata prilikom mnozenja\n",
        "TILE_SIZE = 16\n",
        "BLOCK_SIZE = TILE_SIZE\n",
        "\n",
        "#Random kvadratne matrice\n",
        "a_cpu = np.random.randn(MATRIX_SIZE_1, MATRIX_SIZE_2).astype(np.int32)\n",
        "b_cpu = np.random.randn(MATRIX_SIZE_2, MATRIX_SIZE_3).astype(np.int32)\n",
        "\n",
        "#C_cpu se koristi radi provere-sadrzi tacne rezultate mnozenja matrica A i B\n",
        "c_cpu = np.matmul(a_cpu, b_cpu)\n",
        "\n",
        "#Prebacivanje na GPU i pravljenje c_gpu niza\n",
        "a_gpu = gpuarray.to_gpu(a_cpu)\n",
        "b_gpu = gpuarray.to_gpu(b_cpu)\n",
        "c_gpu = gpuarray.empty((MATRIX_SIZE_1, MATRIX_SIZE_3), np.int32)\n",
        "\n",
        "\n",
        "#Uzmi kernel kod iz tamplate-a i stavi vrednosti za ucitavanje - posle se korist iza pristupanju ovim vrednostima u kernel kodu sa '%(VALUE)s' komandom\n",
        "kernel_code = kernel_code_template % {\n",
        "    'BLOCK_SIZE': BLOCK_SIZE,\n",
        "    }\n",
        "#Compile kod\n",
        "mod = compiler.SourceModule(kernel_code)\n",
        "c_gpu = gpuarray.empty((MATRIX_SIZE_1, MATRIX_SIZE_3), np.int32)\n",
        "\n",
        "matrixmul = mod.get_function(\"MatrixMulKernel\")\n",
        "msize1 = np.int32(MATRIX_SIZE_1)\n",
        "msize2 = np.int32(MATRIX_SIZE_3)\n",
        "bsize = np.int32(TILE_SIZE)\n",
        "matrixmul(\n",
        "    #IN\n",
        "    a_gpu, b_gpu, msize1, msize2, bsize,\n",
        "    #OUT\n",
        "    c_gpu,\n",
        "    #GRID\n",
        "    grid = (MATRIX_SIZE_1 // TILE_SIZE, MATRIX_SIZE_3 // TILE_SIZE),\n",
        "    #BLOCK\n",
        "    block = (TILE_SIZE, TILE_SIZE, 1),\n",
        "    )\n",
        "\n",
        "#Stampanje rezultata mnozenja\n",
        "print (\"Matrica A:\")\n",
        "print (a_gpu)\n",
        "\n",
        "print( \"\\n\")\n",
        "print(\"Matrca B:\")\n",
        "print(b_gpu)\n",
        "\n",
        "print( \"\\n\")\n",
        "print( \"Matrica C:\")\n",
        "print(c_gpu.get())\n",
        "\n",
        "print(\"\\n\")\n",
        "print(\"Ocekivana matrica:\")\n",
        "print(c_cpu)\n",
        "\n",
        "\n",
        "a_gpu.gpudata.free()\n",
        "b_gpu.gpudata.free()\n",
        "c_gpu.gpudata.free()\n",
        "del a_gpu\n",
        "del b_gpu\n",
        "del c_gpu\n",
        "del a_cpu\n",
        "del b_cpu\n",
        "#Zato sto zeza nakon nekoliko pustanja- javlja Illegal memory access (Logic Error), zato je gore i brisanje elemenata\n",
        "#Force garbage Collector, posle ovoga radi normalno bez potrebe da se resetuje RUNTIME.\n",
        "gc.collect()"
      ],
      "execution_count": 5,
      "outputs": [
        {
          "output_type": "stream",
          "text": [
            "Matrica A:\n",
            "[[ 0  1  0 ... -1  1  0]\n",
            " [ 1  1  0 ... -1  0  0]\n",
            " [ 1  0  1 ...  0  0 -1]\n",
            " ...\n",
            " [-2  0  0 ...  0  0  0]\n",
            " [ 0  1 -1 ... -1 -1  0]\n",
            " [ 1  0  0 ...  1  0  0]]\n",
            "\n",
            "\n",
            "Matrca B:\n",
            "[[-1  0  0 ...  0  0 -1]\n",
            " [ 0  0  0 ...  0  0 -1]\n",
            " [-1  1  0 ...  0 -1  0]\n",
            " ...\n",
            " [ 0  0 -1 ...  0 -1  0]\n",
            " [ 0  0  0 ... -1  0  0]\n",
            " [ 0  0  0 ...  0  0  0]]\n",
            "\n",
            "\n",
            "Matrica C:\n",
            "[[ 3  2  0 ... -5 -3 -6]\n",
            " [ 2  2  3 ...  0  4  1]\n",
            " [-6  3 -2 ... -2 -1 -5]\n",
            " ...\n",
            " [-1 -2  0 ... -1 -1  2]\n",
            " [ 1  0  0 ...  0  2  0]\n",
            " [-3  2 -2 ...  2 -1 -2]]\n",
            "\n",
            "\n",
            "Ocekivana matrica:\n",
            "[[ 3  2  0 ... -5 -3 -6]\n",
            " [ 2  2  3 ...  0  4  1]\n",
            " [-6  3 -2 ... -2 -1 -5]\n",
            " ...\n",
            " [-1 -2  0 ... -1 -1  2]\n",
            " [ 1  0  0 ...  0  2  0]\n",
            " [-3  2 -2 ...  2 -1 -2]]\n"
          ],
          "name": "stdout"
        },
        {
          "output_type": "execute_result",
          "data": {
            "text/plain": [
              "47"
            ]
          },
          "metadata": {
            "tags": []
          },
          "execution_count": 5
        }
      ]
    },
    {
      "cell_type": "code",
      "metadata": {
        "id": "ZLWyECl8DTie"
      },
      "source": [
        ""
      ],
      "execution_count": null,
      "outputs": []
    }
  ]
}