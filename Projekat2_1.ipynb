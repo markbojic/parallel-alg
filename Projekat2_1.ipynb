{
  "nbformat": 4,
  "nbformat_minor": 0,
  "metadata": {
    "colab": {
      "name": "Projekat 2-  1",
      "provenance": [],
      "collapsed_sections": [],
      "include_colab_link": true
    },
    "kernelspec": {
      "name": "python3",
      "display_name": "Python 3"
    },
    "accelerator": "GPU"
  },
  "cells": [
    {
      "cell_type": "markdown",
      "metadata": {
        "id": "view-in-github",
        "colab_type": "text"
      },
      "source": [
        "<a href=\"https://colab.research.google.com/github/markbojic/parallel-alg/blob/main/Projekat2_1.ipynb\" target=\"_parent\"><img src=\"https://colab.research.google.com/assets/colab-badge.svg\" alt=\"Open In Colab\"/></a>"
      ]
    },
    {
      "cell_type": "code",
      "metadata": {
        "id": "5c0dhARSOB7T",
        "colab": {
          "base_uri": "https://localhost:8080/",
          "height": 551
        },
        "outputId": "b61d74e4-5fb8-4e51-823d-c0f6059fd2c3"
      },
      "source": [
        "!pip install pycuda"
      ],
      "execution_count": null,
      "outputs": [
        {
          "output_type": "stream",
          "text": [
            "Collecting pycuda\n",
            "\u001b[?25l  Downloading https://files.pythonhosted.org/packages/5e/3f/5658c38579b41866ba21ee1b5020b8225cec86fe717e4b1c5c972de0a33c/pycuda-2019.1.2.tar.gz (1.6MB)\n",
            "\u001b[K     |████████████████████████████████| 1.6MB 2.8MB/s \n",
            "\u001b[?25hCollecting pytools>=2011.2\n",
            "\u001b[?25l  Downloading https://files.pythonhosted.org/packages/00/96/00416762a3eda8876a17d007df4a946f46b2e4ee1057e0b9714926472ef8/pytools-2019.1.1.tar.gz (58kB)\n",
            "\u001b[K     |████████████████████████████████| 61kB 8.7MB/s \n",
            "\u001b[?25hRequirement already satisfied: decorator>=3.2.0 in /usr/local/lib/python3.6/dist-packages (from pycuda) (4.4.1)\n",
            "Collecting appdirs>=1.4.0\n",
            "  Downloading https://files.pythonhosted.org/packages/56/eb/810e700ed1349edde4cbdc1b2a21e28cdf115f9faf263f6bbf8447c1abf3/appdirs-1.4.3-py2.py3-none-any.whl\n",
            "Collecting mako\n",
            "\u001b[?25l  Downloading https://files.pythonhosted.org/packages/b0/3c/8dcd6883d009f7cae0f3157fb53e9afb05a0d3d33b3db1268ec2e6f4a56b/Mako-1.1.0.tar.gz (463kB)\n",
            "\u001b[K     |████████████████████████████████| 471kB 13.8MB/s \n",
            "\u001b[?25hRequirement already satisfied: six>=1.8.0 in /usr/local/lib/python3.6/dist-packages (from pytools>=2011.2->pycuda) (1.12.0)\n",
            "Requirement already satisfied: numpy>=1.6.0 in /usr/local/lib/python3.6/dist-packages (from pytools>=2011.2->pycuda) (1.17.5)\n",
            "Requirement already satisfied: MarkupSafe>=0.9.2 in /usr/local/lib/python3.6/dist-packages (from mako->pycuda) (1.1.1)\n",
            "Building wheels for collected packages: pycuda, pytools, mako\n",
            "  Building wheel for pycuda (setup.py) ... \u001b[?25l\u001b[?25hdone\n",
            "  Created wheel for pycuda: filename=pycuda-2019.1.2-cp36-cp36m-linux_x86_64.whl size=4535546 sha256=4b33ef47b3196a7a8ebd11c3999a3ca18939ec82bc589b6010536fd301b91d3e\n",
            "  Stored in directory: /root/.cache/pip/wheels/a6/60/f0/b1c430c73d281ac3e46070480db50f7907364eb6f6d3188396\n",
            "  Building wheel for pytools (setup.py) ... \u001b[?25l\u001b[?25hdone\n",
            "  Created wheel for pytools: filename=pytools-2019.1.1-py2.py3-none-any.whl size=58424 sha256=b1697ed96e5f1b64003e1ff4d8e4ab8fc29cdc78f6a479c2c1a5d5591ffe59a5\n",
            "  Stored in directory: /root/.cache/pip/wheels/83/df/0b/75ac4572aaa93e3eba6a58472635d0fda907f5f4cf884a3a0c\n",
            "  Building wheel for mako (setup.py) ... \u001b[?25l\u001b[?25hdone\n",
            "  Created wheel for mako: filename=Mako-1.1.0-cp36-none-any.whl size=75363 sha256=c141c86f098abb09dce8f8063e9d3df7118e4c0444c6e5672fb536755bc6e8c8\n",
            "  Stored in directory: /root/.cache/pip/wheels/98/32/7b/a291926643fc1d1e02593e0d9e247c5a866a366b8343b7aa27\n",
            "Successfully built pycuda pytools mako\n",
            "Installing collected packages: appdirs, pytools, mako, pycuda\n",
            "Successfully installed appdirs-1.4.3 mako-1.1.0 pycuda-2019.1.2 pytools-2019.1.1\n"
          ],
          "name": "stdout"
        }
      ]
    },
    {
      "cell_type": "code",
      "metadata": {
        "id": "d5Njbbs5-tmn",
        "colab": {
          "base_uri": "https://localhost:8080/",
          "height": 329
        },
        "outputId": "ae09c0a9-b2a4-4818-98e7-83fa5bcd55e7"
      },
      "source": [
        "!nvidia-smi"
      ],
      "execution_count": null,
      "outputs": [
        {
          "output_type": "stream",
          "text": [
            "Thu Jan  9 10:08:52 2020       \n",
            "+-----------------------------------------------------------------------------+\n",
            "| NVIDIA-SMI 440.44       Driver Version: 418.67       CUDA Version: 10.1     |\n",
            "|-------------------------------+----------------------+----------------------+\n",
            "| GPU  Name        Persistence-M| Bus-Id        Disp.A | Volatile Uncorr. ECC |\n",
            "| Fan  Temp  Perf  Pwr:Usage/Cap|         Memory-Usage | GPU-Util  Compute M. |\n",
            "|===============================+======================+======================|\n",
            "|   0  Tesla P100-PCIE...  Off  | 00000000:00:04.0 Off |                    0 |\n",
            "| N/A   35C    P0    25W / 250W |      0MiB / 16280MiB |      0%      Default |\n",
            "+-------------------------------+----------------------+----------------------+\n",
            "                                                                               \n",
            "+-----------------------------------------------------------------------------+\n",
            "| Processes:                                                       GPU Memory |\n",
            "|  GPU       PID   Type   Process name                             Usage      |\n",
            "|=============================================================================|\n",
            "|  No running processes found                                                 |\n",
            "+-----------------------------------------------------------------------------+\n"
          ],
          "name": "stdout"
        }
      ]
    },
    {
      "cell_type": "code",
      "metadata": {
        "id": "40Y8RhUN-t1w",
        "colab": {
          "base_uri": "https://localhost:8080/",
          "height": 550
        },
        "outputId": "764dd6c8-fe82-4dcf-eaa6-5fb7ce7000e9"
      },
      "source": [
        "import numpy as np\n",
        "from pycuda import driver, compiler, gpuarray, tools\n",
        "import pycuda.autoinit\n",
        "import gc\n",
        "\n",
        "kernel_code_template = \"\"\"\n",
        "__global__ void MatrixMulKernel(int *A, int *B, int m, int n, int colsA,  int *C)\n",
        "{\n",
        "    int row = threadIdx.x;\n",
        "    int col = threadIdx.y;\n",
        "\n",
        "    int sum = 0;\n",
        "\n",
        "    if ((row < m) && (col < n)){\n",
        "      for (int i = 0; i < colsA; ++i)\n",
        "        sum += A[colsA*row + i] * B[i*n+col];\n",
        "      C[row*n+col] = sum;\n",
        "    }\n",
        "\n",
        "}\n",
        "\"\"\"\n",
        "\n",
        "# Velicina matrica za mnozenje - Matrice dele MATRIX_SIZE_2\n",
        "MATRIX_SIZE_1 = 5\n",
        "MATRIX_SIZE_2 = 3\n",
        "MATRIX_SIZE_3 = 4\n",
        "\n",
        "# Popunjavanje matrica prosledjene velicine sa random elementima\n",
        "a_cpu = np.random.randn(MATRIX_SIZE_1, MATRIX_SIZE_2).astype(np.int32)\n",
        "b_cpu = np.random.randn(MATRIX_SIZE_2, MATRIX_SIZE_3).astype(np.int32)\n",
        "\n",
        "# Prebacivanje matrica na gpu \n",
        "a_gpu = gpuarray.to_gpu(a_cpu) \n",
        "b_gpu = gpuarray.to_gpu(b_cpu)\n",
        "\n",
        "# Prazna matrica finalnih dimenizja - Koristi se za cuvanje rezultata mnozenja\n",
        "c_gpu = gpuarray.empty((MATRIX_SIZE_1, MATRIX_SIZE_3), np.int32)\n",
        "\n",
        "# Kompajlovanje kernel koda u SOurceMOdule\n",
        "mod = compiler.SourceModule(kernel_code_template)\n",
        "\n",
        "# Uzmi kernel funkciju uz mod-a\n",
        "matrixmul = mod.get_function(\"MatrixMulKernel\")\n",
        "\n",
        "# Konvertovanje dimenzija kako bi se poslalo u kernel funkciju posle\n",
        "row1 = np.int32(MATRIX_SIZE_1)\n",
        "col1 = np.int32(MATRIX_SIZE_2)\n",
        "row2 = np.int32(MATRIX_SIZE_2)\n",
        "col2 = np.int32(MATRIX_SIZE_3)\n",
        "\n",
        "# pozovi kernel\n",
        "matrixmul(\n",
        "    # In\n",
        "    a_gpu, b_gpu, row1, col2, row2, \n",
        "    # Out\n",
        "    c_gpu, \n",
        "    #koliko thredova da koristi blok\n",
        "    block = (MATRIX_SIZE_1, MATRIX_SIZE_3, 1),\n",
        "    )\n",
        "\n",
        "# Stampanje rezultata mnozenja\n",
        "print (\"Matrica A:\")\n",
        "print (a_gpu)\n",
        "\n",
        "print( \"\\n\")\n",
        "print(\"Matrca B:\")\n",
        "print(b_gpu)\n",
        "\n",
        "print( \"\\n\")\n",
        "print( \"Matrica C:\")\n",
        "print(c_gpu)\n",
        "\n",
        "print( \"\\n\")\n",
        "print( \"Ocekivana matrica:\")\n",
        "c_cpu = np.matmul(a_cpu, b_cpu)\n",
        "print(c_cpu)\n",
        "\n",
        "a_gpu.gpudata.free()\n",
        "b_gpu.gpudata.free()\n",
        "c_gpu.gpudata.free()\n",
        "del a_gpu\n",
        "del b_gpu\n",
        "del c_gpu\n",
        "del a_cpu\n",
        "del b_cpu\n",
        "\n",
        "#Zato sto zeza nakon nekoliko pustanja- javlja Illegal memory access (Logic Error), zato je gore i brisanje elemenata\n",
        "#Force garbage Collector za svaki slucaj\n",
        "gc.collect()"
      ],
      "execution_count": null,
      "outputs": [
        {
          "output_type": "stream",
          "text": [
            "Matrica A:\n",
            "[[-1  0  1]\n",
            " [ 0  0  1]\n",
            " [ 0  1  0]\n",
            " [-2 -1  0]\n",
            " [ 0 -1  0]]\n",
            "\n",
            "\n",
            "Matrca B:\n",
            "[[ 0  0  1  0]\n",
            " [-1 -1  0  0]\n",
            " [ 0  1  2  1]]\n",
            "\n",
            "\n",
            "Matrica C:\n",
            "[[ 0  1  1  1]\n",
            " [ 0  1  2  1]\n",
            " [-1 -1  0  0]\n",
            " [ 1  1 -2  0]\n",
            " [ 1  1  0  0]]\n",
            "\n",
            "\n",
            "Ocekivana matrica:\n",
            "[[ 0  1  1  1]\n",
            " [ 0  1  2  1]\n",
            " [-1 -1  0  0]\n",
            " [ 1  1 -2  0]\n",
            " [ 1  1  0  0]]\n"
          ],
          "name": "stdout"
        },
        {
          "output_type": "execute_result",
          "data": {
            "text/plain": [
              "3163"
            ]
          },
          "metadata": {
            "tags": []
          },
          "execution_count": 2
        }
      ]
    }
  ]
}