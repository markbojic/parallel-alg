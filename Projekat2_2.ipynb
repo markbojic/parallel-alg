{
  "nbformat": 4,
  "nbformat_minor": 0,
  "metadata": {
    "colab": {
      "name": "Projekat 2- 2",
      "provenance": [],
      "collapsed_sections": [],
      "include_colab_link": true
    },
    "kernelspec": {
      "name": "python3",
      "display_name": "Python 3"
    },
    "accelerator": "GPU"
  },
  "cells": [
    {
      "cell_type": "markdown",
      "metadata": {
        "id": "view-in-github",
        "colab_type": "text"
      },
      "source": [
        "<a href=\"https://colab.research.google.com/github/markbojic/parallel-alg/blob/main/Projekat2_2.ipynb\" target=\"_parent\"><img src=\"https://colab.research.google.com/assets/colab-badge.svg\" alt=\"Open In Colab\"/></a>"
      ]
    },
    {
      "cell_type": "code",
      "metadata": {
        "id": "5c0dhARSOB7T",
        "colab": {
          "base_uri": "https://localhost:8080/"
        },
        "outputId": "7038688e-772d-42c2-dc32-85570002ee8b"
      },
      "source": [
        "!pip install pycuda"
      ],
      "execution_count": null,
      "outputs": [
        {
          "output_type": "stream",
          "text": [
            "Collecting pycuda\n",
            "\u001b[?25l  Downloading https://files.pythonhosted.org/packages/46/61/47d3235a4c13eec5a5f03594ddb268f4858734e02980afbcd806e6242fa5/pycuda-2020.1.tar.gz (1.6MB)\n",
            "\u001b[K     |████████████████████████████████| 1.6MB 18.0MB/s \n",
            "\u001b[?25hCollecting pytools>=2011.2\n",
            "\u001b[?25l  Downloading https://files.pythonhosted.org/packages/b7/30/c9362a282ef89106768cba9d884f4b2e4f5dc6881d0c19b478d2a710b82b/pytools-2020.4.3.tar.gz (62kB)\n",
            "\u001b[K     |████████████████████████████████| 71kB 8.8MB/s \n",
            "\u001b[?25hRequirement already satisfied: decorator>=3.2.0 in /usr/local/lib/python3.6/dist-packages (from pycuda) (4.4.2)\n",
            "Collecting appdirs>=1.4.0\n",
            "  Downloading https://files.pythonhosted.org/packages/3b/00/2344469e2084fb287c2e0b57b72910309874c3245463acd6cf5e3db69324/appdirs-1.4.4-py2.py3-none-any.whl\n",
            "Collecting mako\n",
            "\u001b[?25l  Downloading https://files.pythonhosted.org/packages/a6/37/0e706200d22172eb8fa17d68a7ae22dec7631a0a92266634fb518a88a5b2/Mako-1.1.3-py2.py3-none-any.whl (75kB)\n",
            "\u001b[K     |████████████████████████████████| 81kB 11.5MB/s \n",
            "\u001b[?25hRequirement already satisfied: six>=1.8.0 in /usr/local/lib/python3.6/dist-packages (from pytools>=2011.2->pycuda) (1.15.0)\n",
            "Requirement already satisfied: numpy>=1.6.0 in /usr/local/lib/python3.6/dist-packages (from pytools>=2011.2->pycuda) (1.18.5)\n",
            "Requirement already satisfied: dataclasses>=0.7 in /usr/local/lib/python3.6/dist-packages (from pytools>=2011.2->pycuda) (0.8)\n",
            "Requirement already satisfied: MarkupSafe>=0.9.2 in /usr/local/lib/python3.6/dist-packages (from mako->pycuda) (1.1.1)\n",
            "Building wheels for collected packages: pycuda, pytools\n",
            "  Building wheel for pycuda (setup.py) ... \u001b[?25l\u001b[?25hdone\n",
            "  Created wheel for pycuda: filename=pycuda-2020.1-cp36-cp36m-linux_x86_64.whl size=621085 sha256=04c13ab1dbbfaf89e69f04fc2a5cb469dfd2e36260993f843866d50edc2a09e2\n",
            "  Stored in directory: /root/.cache/pip/wheels/8f/78/d1/5bb826f81d9d490297a348d818ff3ee6dd6f2075b06dde6ea0\n",
            "  Building wheel for pytools (setup.py) ... \u001b[?25l\u001b[?25hdone\n",
            "  Created wheel for pytools: filename=pytools-2020.4.3-py2.py3-none-any.whl size=61374 sha256=8fa1ecf74a359ffd7fa27cb0698a1752e96fa4fc5a1f2f58f6991692724a6cab\n",
            "  Stored in directory: /root/.cache/pip/wheels/af/c7/81/a22edb90b0b09a880468b2253bb1df8e9f503337ee15432c64\n",
            "Successfully built pycuda pytools\n",
            "Installing collected packages: appdirs, pytools, mako, pycuda\n",
            "Successfully installed appdirs-1.4.4 mako-1.1.3 pycuda-2020.1 pytools-2020.4.3\n"
          ],
          "name": "stdout"
        }
      ]
    },
    {
      "cell_type": "code",
      "metadata": {
        "id": "d5Njbbs5-tmn",
        "colab": {
          "base_uri": "https://localhost:8080/",
          "height": 329
        },
        "outputId": "28d0704e-3d09-4165-c6fe-3caa8c3a8fa2"
      },
      "source": [
        "!nvidia-smi"
      ],
      "execution_count": null,
      "outputs": [
        {
          "output_type": "stream",
          "text": [
            "Sat Jan 11 08:04:24 2020       \n",
            "+-----------------------------------------------------------------------------+\n",
            "| NVIDIA-SMI 440.44       Driver Version: 418.67       CUDA Version: 10.1     |\n",
            "|-------------------------------+----------------------+----------------------+\n",
            "| GPU  Name        Persistence-M| Bus-Id        Disp.A | Volatile Uncorr. ECC |\n",
            "| Fan  Temp  Perf  Pwr:Usage/Cap|         Memory-Usage | GPU-Util  Compute M. |\n",
            "|===============================+======================+======================|\n",
            "|   0  Tesla P100-PCIE...  Off  | 00000000:00:04.0 Off |                    0 |\n",
            "| N/A   34C    P0    26W / 250W |      0MiB / 16280MiB |      0%      Default |\n",
            "+-------------------------------+----------------------+----------------------+\n",
            "                                                                               \n",
            "+-----------------------------------------------------------------------------+\n",
            "| Processes:                                                       GPU Memory |\n",
            "|  GPU       PID   Type   Process name                             Usage      |\n",
            "|=============================================================================|\n",
            "|  No running processes found                                                 |\n",
            "+-----------------------------------------------------------------------------+\n"
          ],
          "name": "stdout"
        }
      ]
    },
    {
      "cell_type": "code",
      "metadata": {
        "id": "40Y8RhUN-t1w",
        "colab": {
          "base_uri": "https://localhost:8080/",
          "height": 770
        },
        "outputId": "54385ed2-efd4-4857-cd28-1ff2e897f3be"
      },
      "source": [
        "import numpy as np\n",
        "from pycuda import driver, compiler, gpuarray, tools\n",
        "import pycuda.autoinit\n",
        "import gc\n",
        "import math\n",
        "\n",
        "kernel_code_template = \"\"\"\n",
        "__global__ void MatrixMulKernel(int *A, int *B, int m, int n, int colsA,  int *C)\n",
        "{\n",
        "    int row = blockIdx.x * blockDim.x + threadIdx.x;\n",
        "    int col = blockIdx.y * blockDim.y + threadIdx.y;\n",
        "    int sum = 0;\n",
        "\n",
        "    if ((row < m) && (col < n)){\n",
        "      for (int i = 0; i < colsA; ++i)\n",
        "        sum += A[colsA*row + i] * B[i*n+col];\n",
        "      C[row*n+col] = sum;\n",
        "    }\n",
        "}\n",
        "\"\"\"\n",
        "\n",
        "# Velicina matrica za mnozenje - Matrice dele MATRIX_SIZE_2\n",
        "MATRIX_SIZE_1 = 100\n",
        "MATRIX_SIZE_2 = 80\n",
        "MATRIX_SIZE_3 = 100\n",
        "\n",
        "# Generisanje 2 matrice odredjene velicine sa random elementima\n",
        "a_cpu = np.random.randn(MATRIX_SIZE_1, MATRIX_SIZE_2).astype(np.int32)\n",
        "b_cpu = np.random.randn(MATRIX_SIZE_2, MATRIX_SIZE_3).astype(np.int32)\n",
        "\n",
        "# Prebacivanje matrica na gpu \n",
        "a_gpu = gpuarray.to_gpu(a_cpu) \n",
        "b_gpu = gpuarray.to_gpu(b_cpu)\n",
        "\n",
        "# Prazna matrica istih dimenizja- Koristi se za cuvanje rezultata mnozenja\n",
        "c_gpu = gpuarray.empty((MATRIX_SIZE_1, MATRIX_SIZE_3), np.int32)\n",
        "\n",
        "c_cpu = np.random.randn(MATRIX_SIZE_1, MATRIX_SIZE_3).astype(np.int32)\n",
        "\n",
        "# Kompajlovanje kernel koda u SOurceMOdule\n",
        "mod = compiler.SourceModule(kernel_code_template)\n",
        "\n",
        "# Uzmi kernel funkciju uz mod-a\n",
        "matrixmul = mod.get_function(\"MatrixMulKernel\")\n",
        "\n",
        "#Konvertovanje dimenzija kako bi se poslalo u kernel funkciju posle\n",
        "row1 = np.int32(MATRIX_SIZE_1)\n",
        "col1 = np.int32(MATRIX_SIZE_2)\n",
        "row2 = np.int32(MATRIX_SIZE_2)\n",
        "col2 = np.int32(MATRIX_SIZE_3)\n",
        "\n",
        "#pozovi kernel\n",
        "matrixmul(\n",
        "    # In\n",
        "    a_gpu, b_gpu, row1, col2, col1, \n",
        "    # Out\n",
        "    c_gpu, \n",
        "    #koliko thredova da koristi blok\n",
        "    block = (32, 32, 1),\n",
        "    grid = (math.ceil(c_cpu.shape[0]/32), math.ceil(c_cpu.shape[0]/32), 1)\n",
        "    )\n",
        "\n",
        "\n",
        "# Stampanje rezultata mnozenja\n",
        "print (\"Matrica A:\")\n",
        "print (a_gpu)\n",
        "\n",
        "print( \"\\n\")\n",
        "print(\"Matrca B:\")\n",
        "print(b_gpu)\n",
        "\n",
        "print( \"\\n\")\n",
        "print( \"Matrica C:\")\n",
        "print(c_gpu)\n",
        "\n",
        "print(\"\\n\")\n",
        "print(\"Ocekivano:\")\n",
        "c_cpu = np.matmul(a_cpu, b_cpu)\n",
        "print(c_cpu)\n",
        "print(\"\\n\")\n",
        "\n",
        "\n",
        "a_gpu.gpudata.free()\n",
        "b_gpu.gpudata.free()\n",
        "c_gpu.gpudata.free()\n",
        "del a_gpu\n",
        "del b_gpu\n",
        "del c_gpu\n",
        "del a_cpu\n",
        "del b_cpu\n",
        "\n",
        "\n",
        "#Zato sto zeza nakon nekoliko pustanja- javlja Illegal memory access (Logic Error), zato je gore i brisanje elemenata\n",
        "#Force garbage Collector za svaki slucaj\n",
        "gc.collect()"
      ],
      "execution_count": null,
      "outputs": [
        {
          "output_type": "stream",
          "text": [
            "Matrica A:\n",
            "[[ 0 -1  0 ...  0  0  2]\n",
            " [ 0 -3  0 ...  0  0  0]\n",
            " [-1  2  0 ...  0  0  1]\n",
            " ...\n",
            " [ 0  0  1 ...  0  0  0]\n",
            " [ 0  0 -1 ...  0 -1  0]\n",
            " [ 0  0  0 ...  0  0  0]]\n",
            "\n",
            "\n",
            "Matrca B:\n",
            "[[ 0  0  0 ...  0 -2  0]\n",
            " [ 0  0  0 ... -1  0  0]\n",
            " [ 0  0  0 ...  1  0  0]\n",
            " ...\n",
            " [ 2 -1  0 ...  1  0  0]\n",
            " [ 2 -2  1 ...  1  1  0]\n",
            " [ 0  0  0 ...  0  0  0]]\n",
            "\n",
            "\n",
            "Matrica C:\n",
            "[[-3 -4  1 ...  0 -5 -2]\n",
            " [ 6 -6 -3 ...  0 -5 -1]\n",
            " [-3  6 -2 ... -8 -2 -1]\n",
            " ...\n",
            " [-4 -5  0 ...  1 -4 -2]\n",
            " [-4  4  0 ...  6  2 -4]\n",
            " [ 1 -3 -1 ...  0 -2  3]]\n",
            "\n",
            "\n",
            "Ocekivano:\n",
            "[[-3 -4  1 ...  0 -5 -2]\n",
            " [ 6 -6 -3 ...  0 -5 -1]\n",
            " [-3  6 -2 ... -8 -2 -1]\n",
            " ...\n",
            " [-4 -5  0 ...  1 -4 -2]\n",
            " [-4  4  0 ...  6  2 -4]\n",
            " [ 1 -3 -1 ...  0 -2  3]]\n",
            "\n",
            "\n"
          ],
          "name": "stdout"
        },
        {
          "output_type": "execute_result",
          "data": {
            "text/plain": [
              "3690"
            ]
          },
          "metadata": {
            "tags": []
          },
          "execution_count": 3
        }
      ]
    }
  ]
}